{
 "cells": [
  {
   "cell_type": "code",
   "execution_count": 1,
   "metadata": {
    "collapsed": true
   },
   "outputs": [],
   "source": [
    "from pymongo import MongoClient"
   ]
  },
  {
   "cell_type": "code",
   "execution_count": 2,
   "metadata": {
    "collapsed": true
   },
   "outputs": [],
   "source": [
    "import json"
   ]
  },
  {
   "cell_type": "code",
   "execution_count": 3,
   "metadata": {
    "collapsed": true
   },
   "outputs": [],
   "source": [
    "client = MongoClient()"
   ]
  },
  {
   "cell_type": "code",
   "execution_count": 4,
   "metadata": {
    "collapsed": false
   },
   "outputs": [],
   "source": [
    "db = client.ratebeer_database"
   ]
  },
  {
   "cell_type": "code",
   "execution_count": 5,
   "metadata": {
    "collapsed": true
   },
   "outputs": [],
   "source": [
    "beers = db.unique_beers"
   ]
  },
  {
   "cell_type": "code",
   "execution_count": 6,
   "metadata": {
    "collapsed": false
   },
   "outputs": [
    {
     "data": {
      "text/plain": [
       "{'_id': ObjectId('581aab45a1b5a73ed5058a8d'),\n",
       " 'content': {'brewery': 'evil twin brewing',\n",
       "  'name': 'Evil Twin Nymphomaniac APA'},\n",
       " 'urlid': '/beer/evil-twin-nymphomaniac-apa/189868/'}"
      ]
     },
     "execution_count": 6,
     "metadata": {},
     "output_type": "execute_result"
    }
   ],
   "source": [
    "beers.find().next()"
   ]
  },
  {
   "cell_type": "code",
   "execution_count": 61,
   "metadata": {
    "collapsed": false
   },
   "outputs": [],
   "source": [
    "beer_names = set()\n",
    "for beer in beers.find():\n",
    "    beer_names.add(beer['content']['name'])"
   ]
  },
  {
   "cell_type": "code",
   "execution_count": 99,
   "metadata": {
    "collapsed": false
   },
   "outputs": [
    {
     "data": {
      "text/plain": [
       "{'_id': ObjectId('581cd387a1b5a74c7278f340'),\n",
       " 'content': {'abv': '7.2%',\n",
       "  'avg_score': 'none',\n",
       "  'brewery': 'Cigar City Brewing',\n",
       "  'calories_12_oz': '216',\n",
       "  'description': 'none',\n",
       "  'name': '\\n\\nCigar City Brewpub SheezNutz\\n\\n',\n",
       "  'overall_rating': 'none',\n",
       "  'style': 'Porter'},\n",
       " 'urlid': '/beer/cigar-city-brewpub-sheeznutz/456079/'}"
      ]
     },
     "execution_count": 99,
     "metadata": {},
     "output_type": "execute_result"
    }
   ],
   "source": [
    "beers.find()[10000]"
   ]
  },
  {
   "cell_type": "code",
   "execution_count": 63,
   "metadata": {
    "collapsed": false
   },
   "outputs": [],
   "source": [
    "beer_names = [b.split('\\r')[0].strip().replace('\\x92',\"\") for b in beer_names]"
   ]
  },
  {
   "cell_type": "code",
   "execution_count": 7,
   "metadata": {
    "collapsed": true
   },
   "outputs": [],
   "source": [
    "url_dict = {}"
   ]
  },
  {
   "cell_type": "code",
   "execution_count": 8,
   "metadata": {
    "collapsed": false
   },
   "outputs": [],
   "source": [
    "for beer in beers.find():\n",
    "    beer_name = beer['content']['name'].split('\\r')[0].strip().replace('\\x92',\"\")\n",
    "    #ratios = [fuzz.ratio(beer_name.lower(), b) for b in brewer_list]\n",
    "    #brewer = brewer_list[ratios.index(max(ratios))]\n",
    "    url_dict[beer['urlid']] = [beer['content']['brewery'],beer_name]\n",
    "    # bad code needs to be fixed (also first 5 unique beers need to be replaced)\n",
    "    #beers.update({'_id': beer['_id']}, { '$set' : {'content' : {'name' : beer_name, 'brewery' : brewer}}})\n",
    "    \n",
    "    #print(beer_name,brewer)"
   ]
  },
  {
   "cell_type": "code",
   "execution_count": 11,
   "metadata": {
    "collapsed": false
   },
   "outputs": [
    {
     "data": {
      "text/plain": [
       "['To Øl', 'To Øl Amnecia']"
      ]
     },
     "execution_count": 11,
     "metadata": {},
     "output_type": "execute_result"
    }
   ],
   "source": [
    "url_dict[list(url_dict.keys())[0]]"
   ]
  },
  {
   "cell_type": "code",
   "execution_count": null,
   "metadata": {
    "collapsed": false
   },
   "outputs": [],
   "source": [
    "for c in coll.find():\n",
    "    coll.update({'_id':c['_id']}, { '$set': {'content': {'k' : 'v','b': 'c'}}})"
   ]
  },
  {
   "cell_type": "code",
   "execution_count": 12,
   "metadata": {
    "collapsed": true
   },
   "outputs": [],
   "source": [
    "f = open('../data/beer_url_dict.json','w')"
   ]
  },
  {
   "cell_type": "code",
   "execution_count": 13,
   "metadata": {
    "collapsed": false
   },
   "outputs": [],
   "source": [
    "j = json.dumps(url_dict)"
   ]
  },
  {
   "cell_type": "code",
   "execution_count": 14,
   "metadata": {
    "collapsed": false
   },
   "outputs": [
    {
     "data": {
      "text/plain": [
       "1625472"
      ]
     },
     "execution_count": 14,
     "metadata": {},
     "output_type": "execute_result"
    }
   ],
   "source": [
    "f.write(j)"
   ]
  },
  {
   "cell_type": "code",
   "execution_count": 15,
   "metadata": {
    "collapsed": true
   },
   "outputs": [],
   "source": [
    "f.close()"
   ]
  },
  {
   "cell_type": "code",
   "execution_count": 25,
   "metadata": {
    "collapsed": false
   },
   "outputs": [],
   "source": [
    "brewer_list = [b.split('/brewers/')[1].split('/')[0].replace('-',' ') for b in j]"
   ]
  },
  {
   "cell_type": "code",
   "execution_count": 27,
   "metadata": {
    "collapsed": false
   },
   "outputs": [],
   "source": [
    "brewer_list = [b.replace('-',' ') for b in brewer_list]"
   ]
  },
  {
   "cell_type": "code",
   "execution_count": 70,
   "metadata": {
    "collapsed": false
   },
   "outputs": [
    {
     "name": "stderr",
     "output_type": "stream",
     "text": [
      "/home/ubuntu/anaconda3/lib/python3.5/site-packages/fuzzywuzzy/fuzz.py:35: UserWarning: Using slow pure-python SequenceMatcher. Install python-Levenshtein to remove this warning\n",
      "  warnings.warn('Using slow pure-python SequenceMatcher. Install python-Levenshtein to remove this warning')\n"
     ]
    }
   ],
   "source": [
    "from fuzzywuzzy import fuzz"
   ]
  },
  {
   "cell_type": "code",
   "execution_count": 73,
   "metadata": {
    "collapsed": false
   },
   "outputs": [
    {
     "name": "stdout",
     "output_type": "stream",
     "text": [
      "22\n",
      "52\n",
      "32\n",
      "17\n",
      "40\n",
      "9\n",
      "77\n",
      "29\n",
      "39\n",
      "39\n",
      "33\n",
      "31\n",
      "16\n",
      "7\n",
      "35\n",
      "37\n",
      "29\n",
      "31\n",
      "23\n",
      "17\n",
      "36\n",
      "50\n",
      "20\n",
      "35\n",
      "32\n",
      "21\n",
      "19\n",
      "36\n",
      "34\n",
      "49\n",
      "19\n",
      "31\n",
      "44\n",
      "27\n",
      "21\n",
      "30\n",
      "37\n",
      "8\n",
      "40\n",
      "31\n",
      "43\n",
      "44\n",
      "39\n",
      "35\n",
      "47\n",
      "24\n",
      "32\n",
      "34\n",
      "17\n",
      "39\n"
     ]
    }
   ],
   "source": [
    "for b in brewer_list:    \n",
    "    print(fuzz.ratio(b, 'sierra nevada brew'))"
   ]
  },
  {
   "cell_type": "code",
   "execution_count": 32,
   "metadata": {
    "collapsed": false
   },
   "outputs": [
    {
     "data": {
      "text/plain": [
       "['mikkeller',\n",
       " 'stone brewing',\n",
       " 'brewdog',\n",
       " 'brouwerij de molen',\n",
       " 'evil twin brewing',\n",
       " 'to ol',\n",
       " 'sierra nevada brewing company',\n",
       " 'trillium brewing company',\n",
       " 'cloudwater brew co',\n",
       " 'bells brewery',\n",
       " 'founders brewing company',\n",
       " 'amager bryghus',\n",
       " 'pohjala',\n",
       " 'omnipollo',\n",
       " 'siren',\n",
       " 'lervig aktiebryggeri',\n",
       " 'the kernel',\n",
       " 'lagunitas brewing company heineken',\n",
       " 'ballast point brewing company constellation',\n",
       " 'jopen',\n",
       " 'avery brewing company',\n",
       " 'hill farmstead brewery',\n",
       " 'browar pinta',\n",
       " 'firestone walker brewing duvel moortgat',\n",
       " 'crooked stave',\n",
       " 'beavertown',\n",
       " 'brouwerij kees',\n",
       " 'the bruery',\n",
       " 'deschutes brewery',\n",
       " 'oskar blues brewery',\n",
       " 'browar fortuna',\n",
       " 'boulevard brewing company duvel moortgat',\n",
       " 'flying dog brewery',\n",
       " 'boston beer company',\n",
       " 'prairie artisan ales',\n",
       " 'dugges bryggeri',\n",
       " 'stillwater artisanal',\n",
       " 'buxton',\n",
       " 'modern times beer',\n",
       " 'new belgium brewing company',\n",
       " 'wicked weed brewing',\n",
       " 'cigar city brewing',\n",
       " 'magic rock brewing',\n",
       " 'three floyds brewing company',\n",
       " 'against the grain brewery',\n",
       " 'brew by numbers',\n",
       " 'brewski',\n",
       " 'thornbridge',\n",
       " 'brouwerij emelisse',\n",
       " 'nogne o hansa borg']"
      ]
     },
     "execution_count": 32,
     "metadata": {},
     "output_type": "execute_result"
    }
   ],
   "source": [
    "brewer_list"
   ]
  },
  {
   "cell_type": "code",
   "execution_count": null,
   "metadata": {
    "collapsed": true
   },
   "outputs": [],
   "source": []
  }
 ],
 "metadata": {
  "anaconda-cloud": {},
  "kernelspec": {
   "display_name": "Python [conda root]",
   "language": "python",
   "name": "conda-root-py"
  },
  "language_info": {
   "codemirror_mode": {
    "name": "ipython",
    "version": 3
   },
   "file_extension": ".py",
   "mimetype": "text/x-python",
   "name": "python",
   "nbconvert_exporter": "python",
   "pygments_lexer": "ipython3",
   "version": "3.5.2"
  }
 },
 "nbformat": 4,
 "nbformat_minor": 1
}

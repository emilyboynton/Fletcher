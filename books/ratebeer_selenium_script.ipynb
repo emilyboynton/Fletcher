{
 "cells": [
  {
   "cell_type": "code",
   "execution_count": 2,
   "metadata": {
    "collapsed": true
   },
   "outputs": [],
   "source": [
    "import requests\n",
    "from bs4 import BeautifulSoup\n",
    "from selenium import webdriver\n",
    "from selenium.webdriver.common.keys import Keys\n",
    "from time import sleep\n",
    "import os\n",
    "import json"
   ]
  },
  {
   "cell_type": "code",
   "execution_count": 1,
   "metadata": {
    "collapsed": true
   },
   "outputs": [],
   "source": [
    "extra_beer_pages = ['https://www.ratebeer.com/brewers/21st-amendment-brewery/1391/','https://www.ratebeer.com/brewers/coors-brewing-company-millercoors/113/',\n",
    "                    'https://www.ratebeer.com/brewers/anheuser-busch-inbev/84/','https://www.ratebeer.com/brewers/grupo-modelo-corona/119/',\n",
    "                    'https://www.ratebeer.com/brewers/pabst-brewing-company/10946/','https://www.ratebeer.com/Ratings/Beer/ShowBrewerBeers.asp?BrewerID=434',\n",
    "                    'https://www.ratebeer.com/brewers/heineken-nederland/9/']"
   ]
  },
  {
   "cell_type": "code",
   "execution_count": 8,
   "metadata": {
    "collapsed": false
   },
   "outputs": [],
   "source": [
    "url = 'https://www.ratebeer.com/Ratings/MostActiveBrewers.asp'"
   ]
  },
  {
   "cell_type": "code",
   "execution_count": 3,
   "metadata": {
    "collapsed": true
   },
   "outputs": [],
   "source": [
    "chromedriver = \"/Users/nickybangs/Code/chromedriver\"  # start a new chromedriver\n",
    "os.environ[\"webdriver.chrome.driver\"] = chromedriver\n",
    "\n",
    "driver = webdriver.Chrome(chromedriver)"
   ]
  },
  {
   "cell_type": "code",
   "execution_count": 9,
   "metadata": {
    "collapsed": true
   },
   "outputs": [],
   "source": [
    "driver.get(url)\n",
    "driver.execute_script(\"window.scrollTo(0,99999999999999);\") \n",
    "sleep(20) # give the page time to load (10 seconds didn't allow all content to load for three states)\n",
    "data = driver.page_source # get the source html\n",
    "\n",
    "soup = BeautifulSoup(data,'lxml')"
   ]
  },
  {
   "cell_type": "code",
   "execution_count": 21,
   "metadata": {
    "collapsed": false
   },
   "outputs": [],
   "source": [
    "hrefs = []\n",
    "\n",
    "for tr in soup.find('table', {'class': 'maintable'}).findAll('tr')[1:]:\n",
    "      brewery_pages.append(tr.findAll('td')[1].find('a')['href'])"
   ]
  },
  {
   "cell_type": "code",
   "execution_count": 37,
   "metadata": {
    "collapsed": false
   },
   "outputs": [],
   "source": [
    "brewery_pages = []\n",
    "for h in hrefs:\n",
    "    sleep(.1)\n",
    "    url = 'https://www.ratebeer.com' + h\n",
    "    resp = requests.get(url)\n",
    "    soup = BeautifulSoup(resp.text,'lxml')\n",
    "\n",
    "    if soup.find('div', {'id': 'brewer-table'}).find('table', {'id':'brewer-beer-table'}):\n",
    "        brewery_pages.append(h)\n",
    "    else:\n",
    "         brewery_pages.append(soup.find('div', {'id': 'brewer-table'}).find('a')['href'])\n"
   ]
  },
  {
   "cell_type": "code",
   "execution_count": 38,
   "metadata": {
    "collapsed": false
   },
   "outputs": [
    {
     "data": {
      "text/plain": [
       "50"
      ]
     },
     "execution_count": 38,
     "metadata": {},
     "output_type": "execute_result"
    }
   ],
   "source": [
    "len(brewery_pages)"
   ]
  },
  {
   "cell_type": "code",
   "execution_count": 39,
   "metadata": {
    "collapsed": false
   },
   "outputs": [
    {
     "data": {
      "text/plain": [
       "50"
      ]
     },
     "execution_count": 39,
     "metadata": {},
     "output_type": "execute_result"
    }
   ],
   "source": [
    "len(set(brewery_pages))"
   ]
  },
  {
   "cell_type": "code",
   "execution_count": 5,
   "metadata": {
    "collapsed": false
   },
   "outputs": [],
   "source": [
    "beer_pages = []\n",
    "\n",
    "for p in extra_beer_pages:\n",
    "    #url = 'https://www.ratebeer.com' + p\n",
    "    \n",
    "    driver.get(p)\n",
    "    driver.execute_script(\"window.scrollTo(0,99999999999999);\") \n",
    "    sleep(20) \n",
    "    data = driver.page_source \n",
    "    \n",
    "    soup = BeautifulSoup(data,'lxml')\n",
    "\n",
    "    for tr in soup.find('table', {'id': 'brewer-beer-table'}).find('tbody').findAll('tr'):\n",
    "        beer_pages.append(tr.find('td').find('a')['href'])\n",
    "\n",
    "\n"
   ]
  },
  {
   "cell_type": "code",
   "execution_count": 7,
   "metadata": {
    "collapsed": false
   },
   "outputs": [
    {
     "name": "stdout",
     "output_type": "stream",
     "text": [
      "1277\n"
     ]
    }
   ],
   "source": [
    "print(len(beer_pages))\n",
    "beer_pages = list(set(beer_pages))"
   ]
  },
  {
   "cell_type": "code",
   "execution_count": 9,
   "metadata": {
    "collapsed": false
   },
   "outputs": [],
   "source": [
    "j = json.dumps(beer_pages)\n",
    "\n",
    "f = open('extra_beer_pages.json','w')\n",
    "\n",
    "f.write(j)\n",
    "\n",
    "f.close()"
   ]
  },
  {
   "cell_type": "code",
   "execution_count": 51,
   "metadata": {
    "collapsed": true
   },
   "outputs": [],
   "source": [
    "j = json.dumps(hrefs)\n",
    "\n",
    "f = open('brewery_hrefs.json','w')\n",
    "\n",
    "f.write(j)\n",
    "\n",
    "f.close()"
   ]
  },
  {
   "cell_type": "code",
   "execution_count": 53,
   "metadata": {
    "collapsed": false
   },
   "outputs": [],
   "source": [
    "j = json.dumps(brewery_pages)\n",
    "\n",
    "f = open('brewery_pages.json','w')\n",
    "\n",
    "f.write(j)\n",
    "\n",
    "f.close()"
   ]
  },
  {
   "cell_type": "code",
   "execution_count": null,
   "metadata": {
    "collapsed": true
   },
   "outputs": [],
   "source": []
  }
 ],
 "metadata": {
  "anaconda-cloud": {},
  "kernelspec": {
   "display_name": "Python [conda root]",
   "language": "python",
   "name": "conda-root-py"
  },
  "language_info": {
   "codemirror_mode": {
    "name": "ipython",
    "version": 3
   },
   "file_extension": ".py",
   "mimetype": "text/x-python",
   "name": "python",
   "nbconvert_exporter": "python",
   "pygments_lexer": "ipython3",
   "version": "3.5.2"
  }
 },
 "nbformat": 4,
 "nbformat_minor": 1
}

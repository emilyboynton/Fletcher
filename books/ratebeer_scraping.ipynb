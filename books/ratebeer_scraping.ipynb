{
 "cells": [
  {
   "cell_type": "code",
   "execution_count": 15,
   "metadata": {
    "collapsed": true
   },
   "outputs": [],
   "source": [
    "from bs4 import BeautifulSoup\n",
    "import json\n",
    "import requests\n",
    "from time import sleep"
   ]
  },
  {
   "cell_type": "code",
   "execution_count": 3,
   "metadata": {
    "collapsed": true
   },
   "outputs": [],
   "source": [
    "f = open('ratebeer_brewery_hrefs.json','r')\n",
    "hrefs = json.loads(f.read())"
   ]
  },
  {
   "cell_type": "code",
   "execution_count": 55,
   "metadata": {
    "collapsed": false
   },
   "outputs": [],
   "source": [
    "brewery_pages = []\n",
    "for h in hrefs:\n",
    "    sleep(.1)\n",
    "    url = 'https://www.ratebeer.com' + h\n",
    "    resp = requests.get(url)\n",
    "    soup = BeautifulSoup(resp.text,'lxml')\n",
    "    try:\n",
    "        if soup.find('div', {'id': 'brewer-table'}).find('table', {'id':'brewer-beer-table'}):\n",
    "            brewery_pages.append(h)\n",
    "    except:\n",
    "        brewery_pages.append(soup.find('div', {'id': 'brewer-table'}).find('a')['href'])"
   ]
  },
  {
   "cell_type": "code",
   "execution_count": 30,
   "metadata": {
    "collapsed": false
   },
   "outputs": [],
   "source": [
    "url = 'https://www.ratebeer.com' +'/brewers/evil-twin-brewing/11645/'"
   ]
  },
  {
   "cell_type": "code",
   "execution_count": 38,
   "metadata": {
    "collapsed": false
   },
   "outputs": [],
   "source": [
    "url = 'https://www.ratebeer.com' + brewery_pages[0]"
   ]
  },
  {
   "cell_type": "code",
   "execution_count": 39,
   "metadata": {
    "collapsed": true
   },
   "outputs": [],
   "source": [
    "resp = requests.get(url)\n",
    "soup = BeautifulSoup(resp.text,'lxml')"
   ]
  },
  {
   "cell_type": "code",
   "execution_count": 57,
   "metadata": {
    "collapsed": false
   },
   "outputs": [
    {
     "data": {
      "text/plain": [
       "['/brewers/evil-twin-brewing/11645/',\n",
       " '/brewers/to-ol/12119/',\n",
       " '/brewers/trillium-brewing-company/16755/',\n",
       " '/brewers/cloudwater-brew-co/22393/',\n",
       " '/brewers/amager-bryghus/8189/',\n",
       " '/brewers/pohjala/16084/',\n",
       " '/brewers/siren/16289/',\n",
       " '/brewers/omnipollo/12578/',\n",
       " '/brewers/lervig-aktiebryggeri/6163/',\n",
       " '/brewers/lagunitas-brewing-company-heineken/1167/',\n",
       " '/brewers/jopen/11063/',\n",
       " '/brewers/hill-farmstead-brewery/11233/',\n",
       " '/brewers/crooked-stave/12624/',\n",
       " '/brewers/firestone-walker-brewing-duvel-moortgat/398/',\n",
       " '/brewers/browar-pinta/12742/',\n",
       " '/brewers/beavertown/14320/',\n",
       " '/brewers/brouwerij-kees/20878/',\n",
       " '/brewers/browar-fortuna/4882/',\n",
       " '/brewers/flying-dog-brewery/109/',\n",
       " '/brewers/boulevard-brewing-company-duvel-moortgat/22/',\n",
       " '/brewers/boston-beer-company/32/',\n",
       " '/brewers/modern-times-beer/16983/',\n",
       " '/brewers/dugges-bryggeri/5996/',\n",
       " '/brewers/buxton/11041/',\n",
       " '/brewers/prairie-artisan-ales/15476/',\n",
       " '/brewers/stillwater-artisanal/11314/',\n",
       " '/brewers/new-belgium-brewing-company/77/',\n",
       " '/brewers/magic-rock-brewing/12873/',\n",
       " '/brewers/thornbridge/4443/',\n",
       " '/brewers/alesmith-brewing-company/432/',\n",
       " '/brewers/brew-by-numbers/15669/',\n",
       " '/brewers/brewski/21301/',\n",
       " '/brewers/port-brewing-co--the-lost-abbey/7043/']"
      ]
     },
     "execution_count": 57,
     "metadata": {},
     "output_type": "execute_result"
    }
   ],
   "source": [
    "brewery_pages"
   ]
  },
  {
   "cell_type": "code",
   "execution_count": 23,
   "metadata": {
    "collapsed": false
   },
   "outputs": [
    {
     "data": {
      "text/plain": [
       "'/beer/mikkeller-overtime-ipa/452574/'"
      ]
     },
     "execution_count": 23,
     "metadata": {},
     "output_type": "execute_result"
    }
   ],
   "source": [
    "soup.find('table', {'id': 'brewer-beer-table'}).find('tbody').findAll('tr')[0].find('td').find('a')['href']"
   ]
  },
  {
   "cell_type": "code",
   "execution_count": 61,
   "metadata": {
    "collapsed": false
   },
   "outputs": [],
   "source": [
    "beer_pages = []\n",
    "for p in brewery_pages:\n",
    "    url = 'https://www.ratebeer.com' + p\n",
    "    resp = requests.get(url)\n",
    "    soup = BeautifulSoup(resp.text,'lxml')\n",
    "    for tr in soup.find('table', {'id': 'brewer-beer-table'}).find('tbody').findAll('tr'):\n",
    "        beer_pages.append(tr.find('td').find('a')['href'])"
   ]
  },
  {
   "cell_type": "code",
   "execution_count": 69,
   "metadata": {
    "collapsed": false
   },
   "outputs": [],
   "source": [
    "j = json.dumps(brewery_pages)"
   ]
  },
  {
   "cell_type": "code",
   "execution_count": 70,
   "metadata": {
    "collapsed": true
   },
   "outputs": [],
   "source": [
    "f = open('brewery_pages.json','w')"
   ]
  },
  {
   "cell_type": "code",
   "execution_count": 71,
   "metadata": {
    "collapsed": false
   },
   "outputs": [
    {
     "data": {
      "text/plain": [
       "1208"
      ]
     },
     "execution_count": 71,
     "metadata": {},
     "output_type": "execute_result"
    }
   ],
   "source": [
    "f.write(j)"
   ]
  },
  {
   "cell_type": "code",
   "execution_count": 72,
   "metadata": {
    "collapsed": true
   },
   "outputs": [],
   "source": [
    "f.close()"
   ]
  },
  {
   "cell_type": "code",
   "execution_count": 67,
   "metadata": {
    "collapsed": false
   },
   "outputs": [
    {
     "data": {
      "text/plain": [
       "['/beer/to-ol-sjo-taehm-special-fejo-limited-dont-you-be-fucking-with-the-mikkeller-bar/143999/',\n",
       " '/beer/to-ol--mikkeller-ov-ral-wild-yeast-iipa/172757/',\n",
       " '/beer/to-ol--mikkeller-overall-iipa/131530/',\n",
       " '/beer/to-ol--mikkeller-sleep-over-coffee-iipa/166798/',\n",
       " '/beer/amager--mikkeller--kissmeyer-drei-von-danen/145781/',\n",
       " '/beer/amager--mikkeller--kissmeyer-drei-von-danen-cognac-fadlagret/145971/',\n",
       " '/beer/amager--mikkeller-grand-theft-orange/182486/',\n",
       " '/beer/amager--mikkeller-hr-frederiksen-vaesel-brunch-double-coffee-edition/226110/',\n",
       " '/beer/amager--mikkeller-hr-frederiksen-vaesel-brunch-ba/223499/',\n",
       " '/beer/amager--mikkeller-hr-frederiksens-vaesel-brunch/122197/',\n",
       " '/beer/amager--mikkeller-kolle/93140/',\n",
       " '/beer/amager--mikkeller-souramar/130212/',\n",
       " '/beer/amager--mikkeller-traekolle/93142/',\n",
       " '/beer/amager-the-day-the-amager-rednecks-kicked-some-serious-mikkeller-frat-boy-ass/313569/',\n",
       " '/beer/mikkeller--moonlight-the-big-hunt-for-pine/149865/',\n",
       " '/beer/mikkeller-gone-cold-turkey/88156/',\n",
       " '/beer/mikkeller-hop-bomb-challenge-2010/139551/',\n",
       " '/beer/mikkeller-hop-bomb-challenge-2011/173126/',\n",
       " '/beer/mikkeller-stefan-pale-ale/203692/',\n",
       " '/beer/mikkeller-sur-munk/141357/',\n",
       " '/beer/mikkeller-viktoria-ipa/207969/',\n",
       " '/beer/mikkeller--siren-beer-geek-daydream/293170/',\n",
       " '/beer/siren--gordons--mikkeller-blend-wee-heavy/251089/',\n",
       " '/beer/siren--mikkeller--hill-farmstead-barrel-aged-lemon-cello-ipa/453713/',\n",
       " '/beer/siren--mikkeller--hill-farmstead-limoncello-lemon-cello-ipa/212315/',\n",
       " '/beer/siren--mikkeller-barrel-aged-beer-geek-daydream/328911/',\n",
       " '/beer/lervig--lindheim--mikkeller-pop-that-cherry/363018/',\n",
       " '/beer/mikkeller--brewdog--nogne-o-black-tokyo-horizon/248142/',\n",
       " '/beer/mikkeller--lervig-double-eye-pa/175814/',\n",
       " '/beer/mikkeller-beer-geek-bacon/122174/',\n",
       " '/beer/mikkeller-beer-geek-breakfast/53853/',\n",
       " '/beer/mikkeller-beer-geek-breakfast-107-bourbon-edition/118988/',\n",
       " '/beer/mikkeller-beer-geek-breakfast-75-bourbon-edition/316877/',\n",
       " '/beer/mikkeller-beer-geek-breakfast-ba-cherry-wine/317450/',\n",
       " '/beer/mikkeller-beer-geek-breakfast-ba-tequila/317448/',\n",
       " '/beer/mikkeller-beer-geek-breakfast-brunch-big-blend/351415/',\n",
       " '/beer/mikkeller-beer-geek-brunch-weasel/97034/',\n",
       " '/beer/mikkeller-beer-geek-brunch-weasel-bourbon-edition/117706/',\n",
       " '/beer/mikkeller-beer-geek-brunch-weasel-brandy-edition/305318/',\n",
       " '/beer/mikkeller-beer-geek-brunch-weasel-calvados-edition/167391/',\n",
       " '/beer/mikkeller-beer-geek-brunch-weasel-cognac-edition/166407/',\n",
       " '/beer/mikkeller-beer-geek-brunch-weasel-highland-edition/110814/',\n",
       " '/beer/mikkeller-beer-geek-brunch-weasel-islay-edition/109724/',\n",
       " '/beer/mikkeller-beer-geek-brunch-weasel-ba-slyrs/316841/',\n",
       " '/beer/mikkeller-beer-geek-cocoa-shake/308208/',\n",
       " '/beer/mikkeller-beer-geek-dessert/290994/',\n",
       " '/beer/mikkeller-beer-geek-flat-white/364624/',\n",
       " '/beer/mikkeller-beer-geek-vanilla-shake/214195/',\n",
       " '/beer/mikkeller-beer-geek-vanilla-shake-black-sensation-edition/239512/',\n",
       " '/beer/mikkeller-beer-geek-vanilla-shake-bourbon-edition/248755/',\n",
       " '/beer/mikkeller-beer-geek-vs-george-ba-calvados/301788/',\n",
       " '/beer/mikkeller-beer-hop-breakfast/118985/',\n",
       " '/beer/mikkeller-beer-weak-brunch-weasel/263219/',\n",
       " '/beer/mikkeller-erik-the-red/313563/',\n",
       " '/beer/mikkeller-george-cherry-wine/243137/',\n",
       " '/beer/mikkeller-george-meet-beer-geek-brunch-ba-calvados/264300/',\n",
       " '/beer/mikkeller-george-vs-brian-calvados/272157/',\n",
       " '/beer/mikkeller-george-vs-brian-cherry/272156/',\n",
       " '/beer/mikkeller-george-vs-brian-tequila/272152/',\n",
       " '/beer/mikkeller-george/122090/',\n",
       " '/beer/mikkeller-george-barrel-aged-blabaer-sherry-edition/255824/',\n",
       " '/beer/mikkeller-george-barrel-aged-bourbon-edition/132951/',\n",
       " '/beer/mikkeller-george-barrel-aged-calvados-edition/192282/',\n",
       " '/beer/mikkeller-george-barrel-aged-cognac-edition/190858/',\n",
       " '/beer/mikkeller-george-barrel-aged-danish-calvados-edition/225829/',\n",
       " '/beer/mikkeller-rauch-geek-breakfast/122175/',\n",
       " '/beer/grassroots--mikkeller-wheat-is-the-new-hops-ipa/257334/',\n",
       " '/beer/hill-farmstead--mikkeller-daybreak/155470/',\n",
       " '/beer/hill-farmstead--mikkeller-daybreak--orange-liqueur-barrel/250875/',\n",
       " '/beer/firestone-walker--mikkeller-lil-mikkel/215472/',\n",
       " '/beer/beavertown--mikkeller--arizona-wilderness-barrel-aged-sour-power/331210/',\n",
       " '/beer/beavertown--mikkeller--arizona-wilderness-sour-power/296916/',\n",
       " '/beer/samuel-adams--mikkeller-bugs-berries/445545/',\n",
       " '/beer/stillwater--mikkeller--fano-gypsy-tears/173983/',\n",
       " '/beer/stillwater--mikkeller--fano-gypsy-tears--red-wine-barrel/183241/',\n",
       " '/beer/stillwater--mikkeller-rauchstar/148224/',\n",
       " '/beer/stillwater--mikkeller-two-gypsies-our-side/136610/',\n",
       " '/beer/stillwater--mikkeller-two-gypsies-our-side--french-oak-chips/136611/',\n",
       " '/beer/stillwater--mikkeller-two-gypsies-our-side--red-wine/147881/',\n",
       " '/beer/alesmith--mikkeller-apa/382839/',\n",
       " '/beer/alesmith--mikkeller-beer-geek-speedway/309840/',\n",
       " '/beer/alesmith--mikkeller-ipa/383902/',\n",
       " '/beer/alesmith--mikkeller-porter/398225/']"
      ]
     },
     "execution_count": 67,
     "metadata": {},
     "output_type": "execute_result"
    }
   ],
   "source": [
    "[c for c in beer_pages if 'mikkeller' in c]"
   ]
  },
  {
   "cell_type": "code",
   "execution_count": null,
   "metadata": {
    "collapsed": true
   },
   "outputs": [],
   "source": []
  }
 ],
 "metadata": {
  "anaconda-cloud": {},
  "kernelspec": {
   "display_name": "Python [conda root]",
   "language": "python",
   "name": "conda-root-py"
  },
  "language_info": {
   "codemirror_mode": {
    "name": "ipython",
    "version": 3
   },
   "file_extension": ".py",
   "mimetype": "text/x-python",
   "name": "python",
   "nbconvert_exporter": "python",
   "pygments_lexer": "ipython3",
   "version": "3.5.2"
  }
 },
 "nbformat": 4,
 "nbformat_minor": 1
}

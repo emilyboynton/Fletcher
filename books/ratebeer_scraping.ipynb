{
 "cells": [
  {
   "cell_type": "code",
   "execution_count": 15,
   "metadata": {
    "collapsed": true
   },
   "outputs": [],
   "source": [
    "from bs4 import BeautifulSoup\n",
    "import json\n",
    "import requests\n",
    "from time import sleep"
   ]
  },
  {
   "cell_type": "code",
   "execution_count": 3,
   "metadata": {
    "collapsed": false
   },
   "outputs": [],
   "source": [
    "f = open('ratebeer_brewery_hrefs.json','r')\n",
    "hrefs = json.loads(f.read())"
   ]
  },
  {
   "cell_type": "markdown",
   "metadata": {},
   "source": [
    "Get the page for each brewery that lists all the beers that they produce"
   ]
  },
  {
   "cell_type": "code",
   "execution_count": 55,
   "metadata": {
    "collapsed": false
   },
   "outputs": [],
   "source": [
    "brewery_pages = []\n",
    "for h in hrefs:\n",
    "    sleep(.1)\n",
    "    url = 'https://www.ratebeer.com' + h\n",
    "    resp = requests.get(url)\n",
    "    soup = BeautifulSoup(resp.text,'lxml')\n",
    "    try:\n",
    "        if soup.find('div', {'id': 'brewer-table'}).find('table', {'id':'brewer-beer-table'}): # some pages have the\n",
    "            brewery_pages.append(h)                                                    # table of beers on this page\n",
    "    except:\n",
    "        brewery_pages.append(soup.find('div', {'id': 'brewer-table'}).find('a')['href']) # some link to the page"
   ]
  },
  {
   "cell_type": "markdown",
   "metadata": {},
   "source": [
    "This next bit doesn't get all the links because page only loads on scroll, had to use selenium in another script. Stored the results from that script in beer_pages.json"
   ]
  },
  {
   "cell_type": "code",
   "execution_count": 61,
   "metadata": {
    "collapsed": false
   },
   "outputs": [],
   "source": [
    "beer_pages = []\n",
    "for p in brewery_pages:\n",
    "    url = 'https://www.ratebeer.com' + p\n",
    "    resp = requests.get(url)\n",
    "    soup = BeautifulSoup(resp.text,'lxml')\n",
    "    for tr in soup.find('table', {'id': 'brewer-beer-table'}).find('tbody').findAll('tr'):\n",
    "        beer_pages.append(tr.find('td').find('a')['href'])"
   ]
  },
  {
   "cell_type": "markdown",
   "metadata": {},
   "source": [
    "Exporting the brewery pages in order to run the above code with selenium (on my local machine -- this was written on a remote machine)"
   ]
  },
  {
   "cell_type": "code",
   "execution_count": 72,
   "metadata": {
    "collapsed": true
   },
   "outputs": [],
   "source": [
    "j = json.dumps(brewery_pages)\n",
    "f = open('brewery_pages.json','w')\n",
    "f.write(j)\n",
    "f.close()"
   ]
  },
  {
   "cell_type": "code",
   "execution_count": 74,
   "metadata": {
    "collapsed": false
   },
   "outputs": [
    {
     "data": {
      "text/plain": [
       "83"
      ]
     },
     "execution_count": 74,
     "metadata": {},
     "output_type": "execute_result"
    }
   ],
   "source": [
    "len([c for c in beer_pages if 'mikkeller' in c]) # this should be 919"
   ]
  },
  {
   "cell_type": "markdown",
   "metadata": {},
   "source": [
    "Will scrape each beer page, along with reviews and put into mongodb in another script (ratebeer_mongo.ipynb)"
   ]
  }
 ],
 "metadata": {
  "anaconda-cloud": {},
  "kernelspec": {
   "display_name": "Python [conda root]",
   "language": "python",
   "name": "conda-root-py"
  },
  "language_info": {
   "codemirror_mode": {
    "name": "ipython",
    "version": 3
   },
   "file_extension": ".py",
   "mimetype": "text/x-python",
   "name": "python",
   "nbconvert_exporter": "python",
   "pygments_lexer": "ipython3",
   "version": "3.5.2"
  }
 },
 "nbformat": 4,
 "nbformat_minor": 1
}

{
 "cells": [
  {
   "cell_type": "code",
   "execution_count": 1,
   "metadata": {
    "collapsed": true
   },
   "outputs": [],
   "source": [
    "from bs4 import BeautifulSoup\n",
    "import json\n",
    "from pymongo import MongoClient\n",
    "import re\n",
    "import requests\n",
    "from time import sleep"
   ]
  },
  {
   "cell_type": "code",
   "execution_count": 2,
   "metadata": {
    "collapsed": true
   },
   "outputs": [],
   "source": [
    "err_log = open('log.err', 'a')\n",
    "f = open('../data/beer_pages.json')\n",
    "j = json.loads(f.read())\n",
    "beer_pages = j"
   ]
  },
  {
   "cell_type": "code",
   "execution_count": 3,
   "metadata": {
    "collapsed": true
   },
   "outputs": [],
   "source": [
    "client = MongoClient()\n",
    "db = client.ratebeer_database\n",
    "\n",
    "beer_col = db.unique_beers # though some beers seem to repeat as different editions or as draft version, etc\n",
    "rev_col = db.reviews"
   ]
  },
  {
   "cell_type": "code",
   "execution_count": null,
   "metadata": {
    "collapsed": true
   },
   "outputs": [],
   "source": [
    "urls = []\n",
    "for b in beer_col.find():\n",
    "    urls.append(b['urlid'])\n",
    "\n",
    "len(urls)\n",
    "\n",
    "len(beer_pages)\n",
    "\n",
    "new_urls = list(set(beer_pages) - set(urls))"
   ]
  },
  {
   "cell_type": "code",
   "execution_count": 15,
   "metadata": {
    "collapsed": false
   },
   "outputs": [],
   "source": [
    "\n",
    "def getName(s):\n",
    "    return s.find('div', {'class': 'user-header'}).text\n",
    "def brewery(s):\n",
    "    return s.find('a', {'id':'_brand4'}).find('span', {'itemprop': 'name'}).text\n",
    "def overall_rating(s):\n",
    "    return s.find('div', {'class': 'big-circle'}).find('div', {'class': 'ratingValue'}).text\n",
    "def style(s):\n",
    "    return s.find(text=re.compile('Style')).findNextSibling().text\n",
    "def avg_score(s):\n",
    "    return s.find('a', {'name':'real average'}).find('span', {'itemprop': 'ratingValue'}).text\n",
    "def cals(s):\n",
    "    return s.find('abbr', {'title':'Estimated calories for a 12 fluid ounce serving'}).findNext('big').text\n",
    "def abv(s):\n",
    "    return s.find('abbr', {'title':'Alcohol By Volume'}).findNext('big').text\n",
    "def description(s):\n",
    "    return s.find('span', {'id':'_description3'}).text\n",
    "def usrid(u):\n",
    "    return u.text.split('(')[-1].strip(')')\n",
    "def rating(u):\n",
    "    return u.findPrevious('div').text\n",
    "def cat_ratings(u):\n",
    "    return u.findPrevious('strong').text\n",
    "def review(u):\n",
    "    return u.findNext('div').text\n",
    "def get_date(u):\n",
    "    return u.parent.text.split('-')[-1]\n",
    "\n",
    "search_dict = {\n",
    "    'name' : getName,\n",
    "    'brewery' : brewery,\n",
    "    'overall_rating' : overall_rating,\n",
    "    'style' : style,\n",
    "    'avg_score' : avg_score,\n",
    "    'calories_12_oz' : cals,\n",
    "    'abv' : abv,\n",
    "    'description' : description\n",
    "}\n",
    "\n",
    "usr_search_dict = {\n",
    "    'usrid' : usrid,\n",
    "    'rating' : rating,\n",
    "    'category_ratings' : cat_ratings,\n",
    "    'review' : review,\n",
    "    'date' : get_date   \n",
    "}"
   ]
  },
  {
   "cell_type": "code",
   "execution_count": null,
   "metadata": {
    "collapsed": false
   },
   "outputs": [
    {
     "name": "stderr",
     "output_type": "stream",
     "text": [
      "/home/ubuntu/anaconda3/lib/python3.5/site-packages/ipykernel/__main__.py:19: DeprecationWarning: insert is deprecated. Use insert_one or insert_many instead.\n",
      "/home/ubuntu/anaconda3/lib/python3.5/site-packages/ipykernel/__main__.py:50: DeprecationWarning: insert is deprecated. Use insert_one or insert_many instead.\n"
     ]
    }
   ],
   "source": [
    "for page in beer_pages:         \n",
    "    b_url = 'https://www.ratebeer.com' + page\n",
    "    resp = requests.get(b_url)\n",
    "    soup = BeautifulSoup(resp.text,'lxml')\n",
    "    beer_dict={}\n",
    "    try:\n",
    "        last_page = soup.findAll('a', {'class':'ballno'})[-1].text\n",
    "    except:\n",
    "        last_page = 1\n",
    "    soup = soup.find('div',{'id':'container'})\n",
    "\n",
    "    for k in search_dict:\n",
    "        try:\n",
    "            beer_dict[k] = search_dict[k](soup)\n",
    "        except:\n",
    "            beer_dict[k] = 'none'\n",
    "            log_err(b_url,k)\n",
    "    \n",
    "    beer_col.insert({'urlid' : page, 'content': beer_dict})\n",
    "\n",
    "    for i in range(1,int(last_page)+1):\n",
    "        sleep(.1)\n",
    "        url = b_url + '1/{}/'.format(i)\n",
    "\n",
    "        resp = requests.get(url)\n",
    "        soup = BeautifulSoup(resp.text,'lxml')\n",
    "\n",
    "        soup = soup.find('div',{'id':'container'})\n",
    "       \n",
    "        try:\n",
    "            table = soup.find('div', {'class': 'reviews-container'})\n",
    "        except:\n",
    "            log_err(url,'no table')\n",
    "            continue\n",
    "            \n",
    "        try: \n",
    "            usrs = table.findAll('a', {'href': re.compile('user')})\n",
    "        except:\n",
    "            continue\n",
    "            \n",
    "        for usr in usrs:   \n",
    "            review_dict={}\n",
    "            review_dict['beer_url'] = b_url\n",
    "            for k in usr_search_dict:\n",
    "                try:\n",
    "                    review_dict[k] = usr_search_dict[k](usr)\n",
    "                except:\n",
    "                    review_dict[k] = 'none'\n",
    "                    log_err(url,k)\n",
    "            rev_col.insert(review_dict)\n"
   ]
  },
  {
   "cell_type": "code",
   "execution_count": 16,
   "metadata": {
    "collapsed": false
   },
   "outputs": [],
   "source": [
    "def log_err(url,k):\n",
    "    err_log.write(url + ',' +  k + '\\n')\n",
    "    "
   ]
  },
  {
   "cell_type": "code",
   "execution_count": 14,
   "metadata": {
    "collapsed": false
   },
   "outputs": [],
   "source": []
  },
  {
   "cell_type": "code",
   "execution_count": 19,
   "metadata": {
    "collapsed": false
   },
   "outputs": [],
   "source": [
    "err_log.close()\n"
   ]
  },
  {
   "cell_type": "code",
   "execution_count": null,
   "metadata": {
    "collapsed": true
   },
   "outputs": [],
   "source": []
  }
 ],
 "metadata": {
  "anaconda-cloud": {},
  "kernelspec": {
   "display_name": "Python [conda root]",
   "language": "python",
   "name": "conda-root-py"
  },
  "language_info": {
   "codemirror_mode": {
    "name": "ipython",
    "version": 3
   },
   "file_extension": ".py",
   "mimetype": "text/x-python",
   "name": "python",
   "nbconvert_exporter": "python",
   "pygments_lexer": "ipython3",
   "version": "3.5.2"
  }
 },
 "nbformat": 4,
 "nbformat_minor": 1
}

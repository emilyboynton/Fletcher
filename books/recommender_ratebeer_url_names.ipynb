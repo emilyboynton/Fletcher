{
 "cells": [
  {
   "cell_type": "code",
   "execution_count": 1,
   "metadata": {
    "collapsed": true
   },
   "outputs": [],
   "source": [
    "import json\n",
    "import pandas as pd\n",
    "import numpy as np"
   ]
  },
  {
   "cell_type": "code",
   "execution_count": 2,
   "metadata": {
    "collapsed": true
   },
   "outputs": [],
   "source": [
    "f =  open('../data/user_rating_dict.json')"
   ]
  },
  {
   "cell_type": "code",
   "execution_count": 3,
   "metadata": {
    "collapsed": true
   },
   "outputs": [],
   "source": [
    "j = json.loads(f.read())"
   ]
  },
  {
   "cell_type": "code",
   "execution_count": 4,
   "metadata": {
    "collapsed": false
   },
   "outputs": [],
   "source": [
    "m = []\n",
    "for usr in j:\n",
    "    for r in list(j[usr].items()):\n",
    "        m.append([usr,r[0],r[1]])\n",
    "    "
   ]
  },
  {
   "cell_type": "code",
   "execution_count": 5,
   "metadata": {
    "collapsed": false
   },
   "outputs": [],
   "source": [
    "df = pd.DataFrame(m)"
   ]
  },
  {
   "cell_type": "code",
   "execution_count": 8,
   "metadata": {
    "collapsed": false
   },
   "outputs": [],
   "source": [
    "df[2] = df[2].apply(float)"
   ]
  },
  {
   "cell_type": "code",
   "execution_count": 13,
   "metadata": {
    "collapsed": false
   },
   "outputs": [],
   "source": [
    "means = {}\n",
    "\n",
    "for u in df[1].unique():\n",
    "    means[u] = df[df[1] == u][2].mean()\n",
    "\n"
   ]
  },
  {
   "cell_type": "code",
   "execution_count": 30,
   "metadata": {
    "collapsed": false
   },
   "outputs": [
    {
     "data": {
      "text/plain": [
       "3.9323699421965315"
      ]
     },
     "execution_count": 30,
     "metadata": {},
     "output_type": "execute_result"
    }
   ],
   "source": [
    "means[list(means.keys())[0]]"
   ]
  },
  {
   "cell_type": "code",
   "execution_count": 32,
   "metadata": {
    "collapsed": false,
    "scrolled": true
   },
   "outputs": [
    {
     "data": {
      "text/html": [
       "<div>\n",
       "<table border=\"1\" class=\"dataframe\">\n",
       "  <thead>\n",
       "    <tr style=\"text-align: right;\">\n",
       "      <th></th>\n",
       "      <th></th>\n",
       "      <th>1</th>\n",
       "      <th>10</th>\n",
       "      <th>100</th>\n",
       "      <th>1000</th>\n",
       "      <th>1001</th>\n",
       "      <th>1002</th>\n",
       "      <th>10021</th>\n",
       "      <th>10022</th>\n",
       "      <th>10023</th>\n",
       "      <th>10024</th>\n",
       "      <th>...</th>\n",
       "      <th>992</th>\n",
       "      <th>9947</th>\n",
       "      <th>995</th>\n",
       "      <th>996</th>\n",
       "      <th>9966</th>\n",
       "      <th>9967</th>\n",
       "      <th>9969</th>\n",
       "      <th>997</th>\n",
       "      <th>9982</th>\n",
       "      <th>999</th>\n",
       "    </tr>\n",
       "    <tr>\n",
       "      <th></th>\n",
       "      <th>1</th>\n",
       "      <th></th>\n",
       "      <th></th>\n",
       "      <th></th>\n",
       "      <th></th>\n",
       "      <th></th>\n",
       "      <th></th>\n",
       "      <th></th>\n",
       "      <th></th>\n",
       "      <th></th>\n",
       "      <th></th>\n",
       "      <th></th>\n",
       "      <th></th>\n",
       "      <th></th>\n",
       "      <th></th>\n",
       "      <th></th>\n",
       "      <th></th>\n",
       "      <th></th>\n",
       "      <th></th>\n",
       "      <th></th>\n",
       "      <th></th>\n",
       "      <th></th>\n",
       "    </tr>\n",
       "  </thead>\n",
       "  <tbody>\n",
       "    <tr>\n",
       "      <th rowspan=\"5\" valign=\"top\">2</th>\n",
       "      <th>https://www.ratebeer.com/beer/10-barrel--bluejacket--stone-suede-imperial-porter/231482/</th>\n",
       "      <td>NaN</td>\n",
       "      <td>NaN</td>\n",
       "      <td>NaN</td>\n",
       "      <td>NaN</td>\n",
       "      <td>NaN</td>\n",
       "      <td>NaN</td>\n",
       "      <td>NaN</td>\n",
       "      <td>NaN</td>\n",
       "      <td>NaN</td>\n",
       "      <td>NaN</td>\n",
       "      <td>...</td>\n",
       "      <td>NaN</td>\n",
       "      <td>3.7</td>\n",
       "      <td>NaN</td>\n",
       "      <td>NaN</td>\n",
       "      <td>NaN</td>\n",
       "      <td>NaN</td>\n",
       "      <td>NaN</td>\n",
       "      <td>NaN</td>\n",
       "      <td>2.7</td>\n",
       "      <td>NaN</td>\n",
       "    </tr>\n",
       "    <tr>\n",
       "      <th>https://www.ratebeer.com/beer/21st-amendment--firestone-walker--stone-el-camino-unreal-black-ale/119723/</th>\n",
       "      <td>NaN</td>\n",
       "      <td>4.4</td>\n",
       "      <td>NaN</td>\n",
       "      <td>NaN</td>\n",
       "      <td>NaN</td>\n",
       "      <td>3.5</td>\n",
       "      <td>NaN</td>\n",
       "      <td>NaN</td>\n",
       "      <td>NaN</td>\n",
       "      <td>NaN</td>\n",
       "      <td>...</td>\n",
       "      <td>NaN</td>\n",
       "      <td>3.9</td>\n",
       "      <td>NaN</td>\n",
       "      <td>NaN</td>\n",
       "      <td>NaN</td>\n",
       "      <td>NaN</td>\n",
       "      <td>NaN</td>\n",
       "      <td>NaN</td>\n",
       "      <td>3.6</td>\n",
       "      <td>NaN</td>\n",
       "    </tr>\n",
       "    <tr>\n",
       "      <th>https://www.ratebeer.com/beer/abc-brewing-henrik-imperial-amber/168983/</th>\n",
       "      <td>NaN</td>\n",
       "      <td>NaN</td>\n",
       "      <td>NaN</td>\n",
       "      <td>NaN</td>\n",
       "      <td>NaN</td>\n",
       "      <td>NaN</td>\n",
       "      <td>NaN</td>\n",
       "      <td>NaN</td>\n",
       "      <td>NaN</td>\n",
       "      <td>NaN</td>\n",
       "      <td>...</td>\n",
       "      <td>NaN</td>\n",
       "      <td>NaN</td>\n",
       "      <td>NaN</td>\n",
       "      <td>NaN</td>\n",
       "      <td>NaN</td>\n",
       "      <td>NaN</td>\n",
       "      <td>NaN</td>\n",
       "      <td>NaN</td>\n",
       "      <td>NaN</td>\n",
       "      <td>NaN</td>\n",
       "    </tr>\n",
       "    <tr>\n",
       "      <th>https://www.ratebeer.com/beer/against-the-grain--18th-street-multi-use-warehouse/415774/</th>\n",
       "      <td>NaN</td>\n",
       "      <td>NaN</td>\n",
       "      <td>NaN</td>\n",
       "      <td>NaN</td>\n",
       "      <td>NaN</td>\n",
       "      <td>NaN</td>\n",
       "      <td>NaN</td>\n",
       "      <td>NaN</td>\n",
       "      <td>NaN</td>\n",
       "      <td>NaN</td>\n",
       "      <td>...</td>\n",
       "      <td>NaN</td>\n",
       "      <td>NaN</td>\n",
       "      <td>NaN</td>\n",
       "      <td>NaN</td>\n",
       "      <td>NaN</td>\n",
       "      <td>NaN</td>\n",
       "      <td>NaN</td>\n",
       "      <td>NaN</td>\n",
       "      <td>NaN</td>\n",
       "      <td>NaN</td>\n",
       "    </tr>\n",
       "    <tr>\n",
       "      <th>https://www.ratebeer.com/beer/against-the-grain--akasha-hold-me-closer-thai-ny-danza/341797/</th>\n",
       "      <td>NaN</td>\n",
       "      <td>NaN</td>\n",
       "      <td>NaN</td>\n",
       "      <td>NaN</td>\n",
       "      <td>NaN</td>\n",
       "      <td>NaN</td>\n",
       "      <td>NaN</td>\n",
       "      <td>NaN</td>\n",
       "      <td>NaN</td>\n",
       "      <td>NaN</td>\n",
       "      <td>...</td>\n",
       "      <td>NaN</td>\n",
       "      <td>NaN</td>\n",
       "      <td>NaN</td>\n",
       "      <td>NaN</td>\n",
       "      <td>NaN</td>\n",
       "      <td>NaN</td>\n",
       "      <td>NaN</td>\n",
       "      <td>NaN</td>\n",
       "      <td>NaN</td>\n",
       "      <td>NaN</td>\n",
       "    </tr>\n",
       "  </tbody>\n",
       "</table>\n",
       "<p>5 rows × 4511 columns</p>\n",
       "</div>"
      ],
      "text/plain": [
       "0                                                      1   10  100  1000  \\\n",
       "  1                                                                        \n",
       "2 https://www.ratebeer.com/beer/10-barrel--blueja... NaN  NaN  NaN   NaN   \n",
       "  https://www.ratebeer.com/beer/21st-amendment--f... NaN  4.4  NaN   NaN   \n",
       "  https://www.ratebeer.com/beer/abc-brewing-henri... NaN  NaN  NaN   NaN   \n",
       "  https://www.ratebeer.com/beer/against-the-grain... NaN  NaN  NaN   NaN   \n",
       "  https://www.ratebeer.com/beer/against-the-grain... NaN  NaN  NaN   NaN   \n",
       "\n",
       "0                                                     1001  1002  10021  \\\n",
       "  1                                                                       \n",
       "2 https://www.ratebeer.com/beer/10-barrel--blueja...   NaN   NaN    NaN   \n",
       "  https://www.ratebeer.com/beer/21st-amendment--f...   NaN   3.5    NaN   \n",
       "  https://www.ratebeer.com/beer/abc-brewing-henri...   NaN   NaN    NaN   \n",
       "  https://www.ratebeer.com/beer/against-the-grain...   NaN   NaN    NaN   \n",
       "  https://www.ratebeer.com/beer/against-the-grain...   NaN   NaN    NaN   \n",
       "\n",
       "0                                                     10022  10023  10024  \\\n",
       "  1                                                                         \n",
       "2 https://www.ratebeer.com/beer/10-barrel--blueja...    NaN    NaN    NaN   \n",
       "  https://www.ratebeer.com/beer/21st-amendment--f...    NaN    NaN    NaN   \n",
       "  https://www.ratebeer.com/beer/abc-brewing-henri...    NaN    NaN    NaN   \n",
       "  https://www.ratebeer.com/beer/against-the-grain...    NaN    NaN    NaN   \n",
       "  https://www.ratebeer.com/beer/against-the-grain...    NaN    NaN    NaN   \n",
       "\n",
       "0                                                    ...   992  9947  995  \\\n",
       "  1                                                  ...                    \n",
       "2 https://www.ratebeer.com/beer/10-barrel--blueja... ...   NaN   3.7  NaN   \n",
       "  https://www.ratebeer.com/beer/21st-amendment--f... ...   NaN   3.9  NaN   \n",
       "  https://www.ratebeer.com/beer/abc-brewing-henri... ...   NaN   NaN  NaN   \n",
       "  https://www.ratebeer.com/beer/against-the-grain... ...   NaN   NaN  NaN   \n",
       "  https://www.ratebeer.com/beer/against-the-grain... ...   NaN   NaN  NaN   \n",
       "\n",
       "0                                                     996  9966  9967  9969  \\\n",
       "  1                                                                           \n",
       "2 https://www.ratebeer.com/beer/10-barrel--blueja...  NaN   NaN   NaN   NaN   \n",
       "  https://www.ratebeer.com/beer/21st-amendment--f...  NaN   NaN   NaN   NaN   \n",
       "  https://www.ratebeer.com/beer/abc-brewing-henri...  NaN   NaN   NaN   NaN   \n",
       "  https://www.ratebeer.com/beer/against-the-grain...  NaN   NaN   NaN   NaN   \n",
       "  https://www.ratebeer.com/beer/against-the-grain...  NaN   NaN   NaN   NaN   \n",
       "\n",
       "0                                                     997  9982  999  \n",
       "  1                                                                   \n",
       "2 https://www.ratebeer.com/beer/10-barrel--blueja...  NaN   2.7  NaN  \n",
       "  https://www.ratebeer.com/beer/21st-amendment--f...  NaN   3.6  NaN  \n",
       "  https://www.ratebeer.com/beer/abc-brewing-henri...  NaN   NaN  NaN  \n",
       "  https://www.ratebeer.com/beer/against-the-grain...  NaN   NaN  NaN  \n",
       "  https://www.ratebeer.com/beer/against-the-grain...  NaN   NaN  NaN  \n",
       "\n",
       "[5 rows x 4511 columns]"
      ]
     },
     "execution_count": 32,
     "metadata": {},
     "output_type": "execute_result"
    }
   ],
   "source": [
    "df_wide.head()"
   ]
  },
  {
   "cell_type": "code",
   "execution_count": 27,
   "metadata": {
    "collapsed": false
   },
   "outputs": [
    {
     "data": {
      "text/plain": [
       "(4511, 13004)"
      ]
     },
     "execution_count": 27,
     "metadata": {},
     "output_type": "execute_result"
    }
   ],
   "source": [
    "df_wide = pd.pivot_table(df, values=[2],\n",
    "        index=[1], columns=[0], aggfunc=np.sum)\n",
    "        \n",
    "df_wide.shape"
   ]
  },
  {
   "cell_type": "code",
   "execution_count": 28,
   "metadata": {
    "collapsed": false
   },
   "outputs": [],
   "source": [
    "df_wide = df_wide.T"
   ]
  },
  {
   "cell_type": "code",
   "execution_count": 52,
   "metadata": {
    "collapsed": false
   },
   "outputs": [],
   "source": [
    "df_wide.to_csv('adding_averages.csv')"
   ]
  },
  {
   "cell_type": "code",
   "execution_count": 54,
   "metadata": {
    "collapsed": true
   },
   "outputs": [],
   "source": [
    "j = json.dumps(means)"
   ]
  },
  {
   "cell_type": "code",
   "execution_count": 55,
   "metadata": {
    "collapsed": true
   },
   "outputs": [],
   "source": [
    "f = open('df_means.json','w')\n",
    "f.write(j)\n",
    "f.close()"
   ]
  },
  {
   "cell_type": "code",
   "execution_count": 2,
   "metadata": {
    "collapsed": true
   },
   "outputs": [],
   "source": [
    "f = open('df_means.json')\n",
    "means = json.loads(f.read())\n",
    "f.close()"
   ]
  },
  {
   "cell_type": "code",
   "execution_count": 6,
   "metadata": {
    "collapsed": true
   },
   "outputs": [],
   "source": [
    "df_wide = pd.read_csv('adding_averages.csv')"
   ]
  },
  {
   "cell_type": "code",
   "execution_count": 12,
   "metadata": {
    "collapsed": false
   },
   "outputs": [
    {
     "data": {
      "text/plain": [
       "Index(['1', '1.1', '10', '100', '1000', '1001', '1002', '10021', '10022',\n",
       "       '10023',\n",
       "       ...\n",
       "       '992', '9947', '995', '996', '9966', '9967', '9969', '997', '9982',\n",
       "       '999'],\n",
       "      dtype='object', length=4512)"
      ]
     },
     "execution_count": 12,
     "metadata": {},
     "output_type": "execute_result"
    }
   ],
   "source": [
    "df_wide.columns"
   ]
  },
  {
   "cell_type": "markdown",
   "metadata": {},
   "source": [
    "index 2176"
   ]
  },
  {
   "cell_type": "code",
   "execution_count": 53,
   "metadata": {
    "collapsed": false
   },
   "outputs": [
    {
     "data": {
      "text/plain": [
       "2176"
      ]
     },
     "execution_count": 53,
     "metadata": {},
     "output_type": "execute_result"
    }
   ],
   "source": [
    "list(df_wide['1'].unique()).index(d)"
   ]
  },
  {
   "cell_type": "code",
   "execution_count": null,
   "metadata": {
    "collapsed": false,
    "scrolled": true
   },
   "outputs": [],
   "source": [
    "for d in df_wide['1'].unique()[2176:]:\n",
    "    df_wide[df_wide['1']==d] = df_wide[df_wide['1']==d].fillna(means[d])"
   ]
  },
  {
   "cell_type": "code",
   "execution_count": 42,
   "metadata": {
    "collapsed": false,
    "scrolled": true
   },
   "outputs": [
    {
     "data": {
      "text/html": [
       "<div>\n",
       "<table border=\"1\" class=\"dataframe\">\n",
       "  <thead>\n",
       "    <tr style=\"text-align: right;\">\n",
       "      <th></th>\n",
       "      <th>1</th>\n",
       "      <th>1</th>\n",
       "      <th>10</th>\n",
       "      <th>100</th>\n",
       "      <th>1000</th>\n",
       "      <th>1001</th>\n",
       "      <th>1002</th>\n",
       "      <th>10021</th>\n",
       "      <th>10022</th>\n",
       "      <th>10023</th>\n",
       "      <th>...</th>\n",
       "      <th>992</th>\n",
       "      <th>9947</th>\n",
       "      <th>995</th>\n",
       "      <th>996</th>\n",
       "      <th>9966</th>\n",
       "      <th>9967</th>\n",
       "      <th>9969</th>\n",
       "      <th>997</th>\n",
       "      <th>9982</th>\n",
       "      <th>999</th>\n",
       "    </tr>\n",
       "  </thead>\n",
       "  <tbody>\n",
       "    <tr>\n",
       "      <th>2</th>\n",
       "      <td>https://www.ratebeer.com/beer/abc-brewing-henr...</td>\n",
       "      <td>3.819565</td>\n",
       "      <td>3.819565</td>\n",
       "      <td>3.819565</td>\n",
       "      <td>3.819565</td>\n",
       "      <td>3.819565</td>\n",
       "      <td>3.819565</td>\n",
       "      <td>3.819565</td>\n",
       "      <td>3.819565</td>\n",
       "      <td>3.819565</td>\n",
       "      <td>...</td>\n",
       "      <td>3.819565</td>\n",
       "      <td>3.819565</td>\n",
       "      <td>3.819565</td>\n",
       "      <td>3.819565</td>\n",
       "      <td>3.819565</td>\n",
       "      <td>3.819565</td>\n",
       "      <td>3.819565</td>\n",
       "      <td>3.819565</td>\n",
       "      <td>3.819565</td>\n",
       "      <td>3.819565</td>\n",
       "    </tr>\n",
       "  </tbody>\n",
       "</table>\n",
       "<p>1 rows × 4512 columns</p>\n",
       "</div>"
      ],
      "text/plain": [
       "0                                                  1         1        10  \\\n",
       "2  https://www.ratebeer.com/beer/abc-brewing-henr...  3.819565  3.819565   \n",
       "\n",
       "0       100      1000      1001      1002     10021     10022     10023  \\\n",
       "2  3.819565  3.819565  3.819565  3.819565  3.819565  3.819565  3.819565   \n",
       "\n",
       "0    ...          992      9947       995       996      9966      9967  \\\n",
       "2    ...     3.819565  3.819565  3.819565  3.819565  3.819565  3.819565   \n",
       "\n",
       "0      9969       997      9982       999  \n",
       "2  3.819565  3.819565  3.819565  3.819565  \n",
       "\n",
       "[1 rows x 4512 columns]"
      ]
     },
     "execution_count": 42,
     "metadata": {},
     "output_type": "execute_result"
    }
   ],
   "source": [
    "df_wide[df_wide[1]=='https://www.ratebeer.com/beer/abc-brewing-henrik-imperial-amber/168983/'].fillna(means['https://www.ratebeer.com/beer/abc-brewing-henrik-imperial-amber/168983/'])"
   ]
  },
  {
   "cell_type": "code",
   "execution_count": 33,
   "metadata": {
    "collapsed": true
   },
   "outputs": [],
   "source": [
    "df_wide = df_wide.reset_index()"
   ]
  },
  {
   "cell_type": "code",
   "execution_count": 34,
   "metadata": {
    "collapsed": true
   },
   "outputs": [],
   "source": [
    "del df_wide['level_0']"
   ]
  },
  {
   "cell_type": "code",
   "execution_count": 22,
   "metadata": {
    "collapsed": false
   },
   "outputs": [
    {
     "data": {
      "text/html": [
       "<div>\n",
       "<table border=\"1\" class=\"dataframe\">\n",
       "  <thead>\n",
       "    <tr style=\"text-align: right;\">\n",
       "      <th></th>\n",
       "      <th>1</th>\n",
       "      <th>1</th>\n",
       "      <th>10</th>\n",
       "      <th>100</th>\n",
       "      <th>1000</th>\n",
       "      <th>1001</th>\n",
       "      <th>1002</th>\n",
       "      <th>10021</th>\n",
       "      <th>10022</th>\n",
       "      <th>10023</th>\n",
       "      <th>...</th>\n",
       "      <th>992</th>\n",
       "      <th>9947</th>\n",
       "      <th>995</th>\n",
       "      <th>996</th>\n",
       "      <th>9966</th>\n",
       "      <th>9967</th>\n",
       "      <th>9969</th>\n",
       "      <th>997</th>\n",
       "      <th>9982</th>\n",
       "      <th>999</th>\n",
       "    </tr>\n",
       "  </thead>\n",
       "  <tbody>\n",
       "    <tr>\n",
       "      <th>0</th>\n",
       "      <td>https://www.ratebeer.com/beer/10-barrel--bluej...</td>\n",
       "      <td>0.0</td>\n",
       "      <td>0.0</td>\n",
       "      <td>0.0</td>\n",
       "      <td>0.0</td>\n",
       "      <td>0.0</td>\n",
       "      <td>0.0</td>\n",
       "      <td>0.0</td>\n",
       "      <td>0.0</td>\n",
       "      <td>0.0</td>\n",
       "      <td>...</td>\n",
       "      <td>0.0</td>\n",
       "      <td>3.7</td>\n",
       "      <td>0.0</td>\n",
       "      <td>0.0</td>\n",
       "      <td>0.0</td>\n",
       "      <td>0.0</td>\n",
       "      <td>0.0</td>\n",
       "      <td>0.0</td>\n",
       "      <td>2.7</td>\n",
       "      <td>0.0</td>\n",
       "    </tr>\n",
       "    <tr>\n",
       "      <th>1</th>\n",
       "      <td>https://www.ratebeer.com/beer/21st-amendment--...</td>\n",
       "      <td>0.0</td>\n",
       "      <td>4.4</td>\n",
       "      <td>0.0</td>\n",
       "      <td>0.0</td>\n",
       "      <td>0.0</td>\n",
       "      <td>3.5</td>\n",
       "      <td>0.0</td>\n",
       "      <td>0.0</td>\n",
       "      <td>0.0</td>\n",
       "      <td>...</td>\n",
       "      <td>0.0</td>\n",
       "      <td>3.9</td>\n",
       "      <td>0.0</td>\n",
       "      <td>0.0</td>\n",
       "      <td>0.0</td>\n",
       "      <td>0.0</td>\n",
       "      <td>0.0</td>\n",
       "      <td>0.0</td>\n",
       "      <td>3.6</td>\n",
       "      <td>0.0</td>\n",
       "    </tr>\n",
       "    <tr>\n",
       "      <th>2</th>\n",
       "      <td>https://www.ratebeer.com/beer/abc-brewing-henr...</td>\n",
       "      <td>0.0</td>\n",
       "      <td>0.0</td>\n",
       "      <td>0.0</td>\n",
       "      <td>0.0</td>\n",
       "      <td>0.0</td>\n",
       "      <td>0.0</td>\n",
       "      <td>0.0</td>\n",
       "      <td>0.0</td>\n",
       "      <td>0.0</td>\n",
       "      <td>...</td>\n",
       "      <td>0.0</td>\n",
       "      <td>0.0</td>\n",
       "      <td>0.0</td>\n",
       "      <td>0.0</td>\n",
       "      <td>0.0</td>\n",
       "      <td>0.0</td>\n",
       "      <td>0.0</td>\n",
       "      <td>0.0</td>\n",
       "      <td>0.0</td>\n",
       "      <td>0.0</td>\n",
       "    </tr>\n",
       "    <tr>\n",
       "      <th>3</th>\n",
       "      <td>https://www.ratebeer.com/beer/against-the-grai...</td>\n",
       "      <td>0.0</td>\n",
       "      <td>0.0</td>\n",
       "      <td>0.0</td>\n",
       "      <td>0.0</td>\n",
       "      <td>0.0</td>\n",
       "      <td>0.0</td>\n",
       "      <td>0.0</td>\n",
       "      <td>0.0</td>\n",
       "      <td>0.0</td>\n",
       "      <td>...</td>\n",
       "      <td>0.0</td>\n",
       "      <td>0.0</td>\n",
       "      <td>0.0</td>\n",
       "      <td>0.0</td>\n",
       "      <td>0.0</td>\n",
       "      <td>0.0</td>\n",
       "      <td>0.0</td>\n",
       "      <td>0.0</td>\n",
       "      <td>0.0</td>\n",
       "      <td>0.0</td>\n",
       "    </tr>\n",
       "    <tr>\n",
       "      <th>4</th>\n",
       "      <td>https://www.ratebeer.com/beer/against-the-grai...</td>\n",
       "      <td>0.0</td>\n",
       "      <td>0.0</td>\n",
       "      <td>0.0</td>\n",
       "      <td>0.0</td>\n",
       "      <td>0.0</td>\n",
       "      <td>0.0</td>\n",
       "      <td>0.0</td>\n",
       "      <td>0.0</td>\n",
       "      <td>0.0</td>\n",
       "      <td>...</td>\n",
       "      <td>0.0</td>\n",
       "      <td>0.0</td>\n",
       "      <td>0.0</td>\n",
       "      <td>0.0</td>\n",
       "      <td>0.0</td>\n",
       "      <td>0.0</td>\n",
       "      <td>0.0</td>\n",
       "      <td>0.0</td>\n",
       "      <td>0.0</td>\n",
       "      <td>0.0</td>\n",
       "    </tr>\n",
       "  </tbody>\n",
       "</table>\n",
       "<p>5 rows × 4512 columns</p>\n",
       "</div>"
      ],
      "text/plain": [
       "0                                                  1    1   10  100  1000  \\\n",
       "0  https://www.ratebeer.com/beer/10-barrel--bluej...  0.0  0.0  0.0   0.0   \n",
       "1  https://www.ratebeer.com/beer/21st-amendment--...  0.0  4.4  0.0   0.0   \n",
       "2  https://www.ratebeer.com/beer/abc-brewing-henr...  0.0  0.0  0.0   0.0   \n",
       "3  https://www.ratebeer.com/beer/against-the-grai...  0.0  0.0  0.0   0.0   \n",
       "4  https://www.ratebeer.com/beer/against-the-grai...  0.0  0.0  0.0   0.0   \n",
       "\n",
       "0  1001  1002  10021  10022  10023 ...   992  9947  995  996  9966  9967  \\\n",
       "0   0.0   0.0    0.0    0.0    0.0 ...   0.0   3.7  0.0  0.0   0.0   0.0   \n",
       "1   0.0   3.5    0.0    0.0    0.0 ...   0.0   3.9  0.0  0.0   0.0   0.0   \n",
       "2   0.0   0.0    0.0    0.0    0.0 ...   0.0   0.0  0.0  0.0   0.0   0.0   \n",
       "3   0.0   0.0    0.0    0.0    0.0 ...   0.0   0.0  0.0  0.0   0.0   0.0   \n",
       "4   0.0   0.0    0.0    0.0    0.0 ...   0.0   0.0  0.0  0.0   0.0   0.0   \n",
       "\n",
       "0  9969  997  9982  999  \n",
       "0   0.0  0.0   2.7  0.0  \n",
       "1   0.0  0.0   3.6  0.0  \n",
       "2   0.0  0.0   0.0  0.0  \n",
       "3   0.0  0.0   0.0  0.0  \n",
       "4   0.0  0.0   0.0  0.0  \n",
       "\n",
       "[5 rows x 4512 columns]"
      ]
     },
     "execution_count": 22,
     "metadata": {},
     "output_type": "execute_result"
    }
   ],
   "source": [
    "df_wide.head()"
   ]
  },
  {
   "cell_type": "code",
   "execution_count": null,
   "metadata": {
    "collapsed": false
   },
   "outputs": [],
   "source": [
    "for d in df_wide.columns[1:]:\n",
    "    df_wide[d] = df_wide[d].apply(float)"
   ]
  },
  {
   "cell_type": "code",
   "execution_count": null,
   "metadata": {
    "collapsed": false
   },
   "outputs": [],
   "source": [
    "df_wide.head()"
   ]
  },
  {
   "cell_type": "code",
   "execution_count": null,
   "metadata": {
    "collapsed": false
   },
   "outputs": [],
   "source": [
    "df_wide[df_wide.columns[1]].apply(float).mean()"
   ]
  },
  {
   "cell_type": "code",
   "execution_count": 24,
   "metadata": {
    "collapsed": true
   },
   "outputs": [],
   "source": [
    "from sklearn.metrics.pairwise import cosine_similarity\n",
    "from sklearn.metrics.pairwise import manhattan_distances\n",
    "from sklearn.metrics.pairwise import euclidean_distances"
   ]
  },
  {
   "cell_type": "code",
   "execution_count": 25,
   "metadata": {
    "collapsed": false
   },
   "outputs": [
    {
     "data": {
      "text/plain": [
       "array([[ 1.        ,  0.18986032,  0.05731339, ...,  0.06369161,\n",
       "         0.04556536,  0.02141478],\n",
       "       [ 0.18986032,  1.        ,  0.03807267, ...,  0.10071954,\n",
       "         0.        ,  0.05184895],\n",
       "       [ 0.05731339,  0.03807267,  1.        , ...,  0.06290908,\n",
       "         0.        ,  0.        ],\n",
       "       ..., \n",
       "       [ 0.06369161,  0.10071954,  0.06290908, ...,  1.        ,\n",
       "         0.        ,  0.06581821],\n",
       "       [ 0.04556536,  0.        ,  0.        , ...,  0.        ,\n",
       "         1.        ,  0.        ],\n",
       "       [ 0.02141478,  0.05184895,  0.        , ...,  0.06581821,\n",
       "         0.        ,  1.        ]])"
      ]
     },
     "execution_count": 25,
     "metadata": {},
     "output_type": "execute_result"
    }
   ],
   "source": [
    "dists = cosine_similarity(df_wide[df_wide.columns[1:]])\n",
    "dists"
   ]
  },
  {
   "cell_type": "code",
   "execution_count": 26,
   "metadata": {
    "collapsed": false
   },
   "outputs": [
    {
     "data": {
      "text/html": [
       "<div>\n",
       "<table border=\"1\" class=\"dataframe\">\n",
       "  <thead>\n",
       "    <tr style=\"text-align: right;\">\n",
       "      <th></th>\n",
       "      <th>0</th>\n",
       "      <th>1</th>\n",
       "      <th>2</th>\n",
       "      <th>3</th>\n",
       "      <th>4</th>\n",
       "      <th>5</th>\n",
       "      <th>6</th>\n",
       "      <th>7</th>\n",
       "      <th>8</th>\n",
       "      <th>9</th>\n",
       "      <th>10</th>\n",
       "    </tr>\n",
       "  </thead>\n",
       "  <tbody>\n",
       "    <tr>\n",
       "      <th>0</th>\n",
       "      <td>1.000000</td>\n",
       "      <td>0.189860</td>\n",
       "      <td>0.057313</td>\n",
       "      <td>0.057641</td>\n",
       "      <td>0.075032</td>\n",
       "      <td>0.072096</td>\n",
       "      <td>0.017120</td>\n",
       "      <td>0.080693</td>\n",
       "      <td>0.055503</td>\n",
       "      <td>0.064125</td>\n",
       "      <td>0.072617</td>\n",
       "    </tr>\n",
       "    <tr>\n",
       "      <th>1</th>\n",
       "      <td>0.189860</td>\n",
       "      <td>1.000000</td>\n",
       "      <td>0.038073</td>\n",
       "      <td>0.052380</td>\n",
       "      <td>0.000000</td>\n",
       "      <td>0.085379</td>\n",
       "      <td>0.023836</td>\n",
       "      <td>0.112212</td>\n",
       "      <td>0.125613</td>\n",
       "      <td>0.036274</td>\n",
       "      <td>0.063367</td>\n",
       "    </tr>\n",
       "    <tr>\n",
       "      <th>2</th>\n",
       "      <td>0.057313</td>\n",
       "      <td>0.038073</td>\n",
       "      <td>1.000000</td>\n",
       "      <td>0.000000</td>\n",
       "      <td>0.000000</td>\n",
       "      <td>0.054640</td>\n",
       "      <td>0.000000</td>\n",
       "      <td>0.052623</td>\n",
       "      <td>0.016552</td>\n",
       "      <td>0.000000</td>\n",
       "      <td>0.084052</td>\n",
       "    </tr>\n",
       "    <tr>\n",
       "      <th>3</th>\n",
       "      <td>0.057641</td>\n",
       "      <td>0.052380</td>\n",
       "      <td>0.000000</td>\n",
       "      <td>1.000000</td>\n",
       "      <td>0.000000</td>\n",
       "      <td>0.146146</td>\n",
       "      <td>0.088250</td>\n",
       "      <td>0.047937</td>\n",
       "      <td>0.169154</td>\n",
       "      <td>0.383627</td>\n",
       "      <td>0.106050</td>\n",
       "    </tr>\n",
       "    <tr>\n",
       "      <th>4</th>\n",
       "      <td>0.075032</td>\n",
       "      <td>0.000000</td>\n",
       "      <td>0.000000</td>\n",
       "      <td>0.000000</td>\n",
       "      <td>1.000000</td>\n",
       "      <td>0.000000</td>\n",
       "      <td>0.108750</td>\n",
       "      <td>0.000000</td>\n",
       "      <td>0.000000</td>\n",
       "      <td>0.000000</td>\n",
       "      <td>0.000000</td>\n",
       "    </tr>\n",
       "    <tr>\n",
       "      <th>5</th>\n",
       "      <td>0.072096</td>\n",
       "      <td>0.085379</td>\n",
       "      <td>0.054640</td>\n",
       "      <td>0.146146</td>\n",
       "      <td>0.000000</td>\n",
       "      <td>1.000000</td>\n",
       "      <td>0.122055</td>\n",
       "      <td>0.162397</td>\n",
       "      <td>0.186842</td>\n",
       "      <td>0.105208</td>\n",
       "      <td>0.244069</td>\n",
       "    </tr>\n",
       "    <tr>\n",
       "      <th>6</th>\n",
       "      <td>0.017120</td>\n",
       "      <td>0.023836</td>\n",
       "      <td>0.000000</td>\n",
       "      <td>0.088250</td>\n",
       "      <td>0.108750</td>\n",
       "      <td>0.122055</td>\n",
       "      <td>1.000000</td>\n",
       "      <td>0.052460</td>\n",
       "      <td>0.103343</td>\n",
       "      <td>0.178776</td>\n",
       "      <td>0.065274</td>\n",
       "    </tr>\n",
       "    <tr>\n",
       "      <th>7</th>\n",
       "      <td>0.080693</td>\n",
       "      <td>0.112212</td>\n",
       "      <td>0.052623</td>\n",
       "      <td>0.047937</td>\n",
       "      <td>0.000000</td>\n",
       "      <td>0.162397</td>\n",
       "      <td>0.052460</td>\n",
       "      <td>1.000000</td>\n",
       "      <td>0.260213</td>\n",
       "      <td>0.111054</td>\n",
       "      <td>0.136200</td>\n",
       "    </tr>\n",
       "    <tr>\n",
       "      <th>8</th>\n",
       "      <td>0.055503</td>\n",
       "      <td>0.125613</td>\n",
       "      <td>0.016552</td>\n",
       "      <td>0.169154</td>\n",
       "      <td>0.000000</td>\n",
       "      <td>0.186842</td>\n",
       "      <td>0.103343</td>\n",
       "      <td>0.260213</td>\n",
       "      <td>1.000000</td>\n",
       "      <td>0.156777</td>\n",
       "      <td>0.129458</td>\n",
       "    </tr>\n",
       "    <tr>\n",
       "      <th>9</th>\n",
       "      <td>0.064125</td>\n",
       "      <td>0.036274</td>\n",
       "      <td>0.000000</td>\n",
       "      <td>0.383627</td>\n",
       "      <td>0.000000</td>\n",
       "      <td>0.105208</td>\n",
       "      <td>0.178776</td>\n",
       "      <td>0.111054</td>\n",
       "      <td>0.156777</td>\n",
       "      <td>1.000000</td>\n",
       "      <td>0.055605</td>\n",
       "    </tr>\n",
       "    <tr>\n",
       "      <th>10</th>\n",
       "      <td>0.072617</td>\n",
       "      <td>0.063367</td>\n",
       "      <td>0.084052</td>\n",
       "      <td>0.106050</td>\n",
       "      <td>0.000000</td>\n",
       "      <td>0.244069</td>\n",
       "      <td>0.065274</td>\n",
       "      <td>0.136200</td>\n",
       "      <td>0.129458</td>\n",
       "      <td>0.055605</td>\n",
       "      <td>1.000000</td>\n",
       "    </tr>\n",
       "  </tbody>\n",
       "</table>\n",
       "</div>"
      ],
      "text/plain": [
       "          0         1         2         3         4         5         6   \\\n",
       "0   1.000000  0.189860  0.057313  0.057641  0.075032  0.072096  0.017120   \n",
       "1   0.189860  1.000000  0.038073  0.052380  0.000000  0.085379  0.023836   \n",
       "2   0.057313  0.038073  1.000000  0.000000  0.000000  0.054640  0.000000   \n",
       "3   0.057641  0.052380  0.000000  1.000000  0.000000  0.146146  0.088250   \n",
       "4   0.075032  0.000000  0.000000  0.000000  1.000000  0.000000  0.108750   \n",
       "5   0.072096  0.085379  0.054640  0.146146  0.000000  1.000000  0.122055   \n",
       "6   0.017120  0.023836  0.000000  0.088250  0.108750  0.122055  1.000000   \n",
       "7   0.080693  0.112212  0.052623  0.047937  0.000000  0.162397  0.052460   \n",
       "8   0.055503  0.125613  0.016552  0.169154  0.000000  0.186842  0.103343   \n",
       "9   0.064125  0.036274  0.000000  0.383627  0.000000  0.105208  0.178776   \n",
       "10  0.072617  0.063367  0.084052  0.106050  0.000000  0.244069  0.065274   \n",
       "\n",
       "          7         8         9         10  \n",
       "0   0.080693  0.055503  0.064125  0.072617  \n",
       "1   0.112212  0.125613  0.036274  0.063367  \n",
       "2   0.052623  0.016552  0.000000  0.084052  \n",
       "3   0.047937  0.169154  0.383627  0.106050  \n",
       "4   0.000000  0.000000  0.000000  0.000000  \n",
       "5   0.162397  0.186842  0.105208  0.244069  \n",
       "6   0.052460  0.103343  0.178776  0.065274  \n",
       "7   1.000000  0.260213  0.111054  0.136200  \n",
       "8   0.260213  1.000000  0.156777  0.129458  \n",
       "9   0.111054  0.156777  1.000000  0.055605  \n",
       "10  0.136200  0.129458  0.055605  1.000000  "
      ]
     },
     "execution_count": 26,
     "metadata": {},
     "output_type": "execute_result"
    }
   ],
   "source": [
    "dists = pd.DataFrame(dists, columns=df_wide.index)\n",
    "\n",
    "dists.index = dists.columns\n",
    "dists.ix[0:10, 0:10]"
   ]
  },
  {
   "cell_type": "code",
   "execution_count": null,
   "metadata": {
    "collapsed": true
   },
   "outputs": [],
   "source": [
    "import random"
   ]
  },
  {
   "cell_type": "code",
   "execution_count": null,
   "metadata": {
    "collapsed": false
   },
   "outputs": [],
   "source": [
    "choices = []\n",
    "for i in range(5):\n",
    "    choices.append(random.choice(df[1].tolist()))"
   ]
  },
  {
   "cell_type": "code",
   "execution_count": null,
   "metadata": {
    "collapsed": false
   },
   "outputs": [],
   "source": [
    "choices"
   ]
  },
  {
   "cell_type": "code",
   "execution_count": null,
   "metadata": {
    "collapsed": false
   },
   "outputs": [],
   "source": [
    "dists[2][choices].head()"
   ]
  },
  {
   "cell_type": "code",
   "execution_count": null,
   "metadata": {
    "collapsed": false
   },
   "outputs": [],
   "source": [
    "beers_summed = dists[2][choices].apply(lambda row: np.sum(row), axis=1)"
   ]
  },
  {
   "cell_type": "code",
   "execution_count": null,
   "metadata": {
    "collapsed": false
   },
   "outputs": [],
   "source": [
    "choices"
   ]
  },
  {
   "cell_type": "code",
   "execution_count": null,
   "metadata": {
    "collapsed": false,
    "scrolled": true
   },
   "outputs": [],
   "source": [
    "beers_summed = dists[2][choices].apply(lambda row: np.sum(row), axis=1)\n",
    "beers_summed = beers_summed.sort_values(ascending=False)\n",
    "ranked_beers = beers_summed.index[beers_summed.index.isin(choices)==False]\n",
    "ranked_beers = ranked_beers.tolist()\n",
    "ranked_beers[2][1]"
   ]
  },
  {
   "cell_type": "code",
   "execution_count": null,
   "metadata": {
    "collapsed": false
   },
   "outputs": [],
   "source": [
    "ranked_beers = beers_summed.index[beers_summed.index.isin(choices)==False]\n",
    "ranked_beers = ranked_beers.tolist()\n",
    "ranked_beers[2][1]"
   ]
  },
  {
   "cell_type": "code",
   "execution_count": null,
   "metadata": {
    "collapsed": false
   },
   "outputs": [],
   "source": [
    "[c for c in df[1].tolist() if 'troegs' in c]"
   ]
  },
  {
   "cell_type": "code",
   "execution_count": 44,
   "metadata": {
    "collapsed": false
   },
   "outputs": [
    {
     "name": "stdout",
     "output_type": "stream",
     "text": [
      "True\n"
     ]
    }
   ],
   "source": [
    "print(True)"
   ]
  },
  {
   "cell_type": "code",
   "execution_count": null,
   "metadata": {
    "collapsed": true
   },
   "outputs": [],
   "source": []
  }
 ],
 "metadata": {
  "anaconda-cloud": {},
  "kernelspec": {
   "display_name": "Python [default]",
   "language": "python",
   "name": "python3"
  },
  "language_info": {
   "codemirror_mode": {
    "name": "ipython",
    "version": 3
   },
   "file_extension": ".py",
   "mimetype": "text/x-python",
   "name": "python",
   "nbconvert_exporter": "python",
   "pygments_lexer": "ipython3",
   "version": "3.5.2"
  }
 },
 "nbformat": 4,
 "nbformat_minor": 1
}
